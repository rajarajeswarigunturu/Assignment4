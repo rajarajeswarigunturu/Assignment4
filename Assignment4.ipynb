{
 "cells": [
  {
   "cell_type": "code",
   "execution_count": 1,
   "id": "cd097b57",
   "metadata": {},
   "outputs": [],
   "source": [
    "#1. What exactly is []?"
   ]
  },
  {
   "cell_type": "code",
   "execution_count": 2,
   "id": "d818032f",
   "metadata": {},
   "outputs": [],
   "source": [
    "# A. square brackets is used to define a list comprehension."
   ]
  },
  {
   "cell_type": "code",
   "execution_count": 3,
   "id": "ceb8f76e",
   "metadata": {},
   "outputs": [],
   "source": [
    "#2. In a list of values stored in a variable called spam,\n",
    "#   how would you assign the value & hello \n",
    "#   as the third value? (Assume [2, 4, 6, 8, 10] are in spam.)"
   ]
  },
  {
   "cell_type": "code",
   "execution_count": 15,
   "id": "94a438b4",
   "metadata": {},
   "outputs": [],
   "source": [
    "spam=[2,4,6,8,10]"
   ]
  },
  {
   "cell_type": "code",
   "execution_count": 16,
   "id": "bba4a123",
   "metadata": {},
   "outputs": [
    {
     "data": {
      "text/plain": [
       "[2, 4, 6, 8, 10]"
      ]
     },
     "execution_count": 16,
     "metadata": {},
     "output_type": "execute_result"
    }
   ],
   "source": [
    "spam"
   ]
  },
  {
   "cell_type": "code",
   "execution_count": 17,
   "id": "c624f170",
   "metadata": {},
   "outputs": [],
   "source": [
    "spam.insert(2, \"hello\")"
   ]
  },
  {
   "cell_type": "code",
   "execution_count": 18,
   "id": "84f33f52",
   "metadata": {},
   "outputs": [
    {
     "data": {
      "text/plain": [
       "[2, 4, 'hello', 6, 8, 10]"
      ]
     },
     "execution_count": 18,
     "metadata": {},
     "output_type": "execute_result"
    }
   ],
   "source": [
    "spam"
   ]
  },
  {
   "cell_type": "code",
   "execution_count": 19,
   "id": "b3c46470",
   "metadata": {},
   "outputs": [],
   "source": [
    "#3. What is the value of spam[int(int('3'* 2) / 11)]?"
   ]
  },
  {
   "cell_type": "code",
   "execution_count": 20,
   "id": "6b416f4a",
   "metadata": {},
   "outputs": [
    {
     "data": {
      "text/plain": [
       "6"
      ]
     },
     "execution_count": 20,
     "metadata": {},
     "output_type": "execute_result"
    }
   ],
   "source": [
    "spam[int(int('3'*2)/11)]"
   ]
  },
  {
   "cell_type": "code",
   "execution_count": 21,
   "id": "34aeced9",
   "metadata": {},
   "outputs": [
    {
     "data": {
      "text/plain": [
       "33"
      ]
     },
     "execution_count": 21,
     "metadata": {},
     "output_type": "execute_result"
    }
   ],
   "source": [
    "int('3'*2)"
   ]
  },
  {
   "cell_type": "code",
   "execution_count": 22,
   "id": "9f5f0af9",
   "metadata": {},
   "outputs": [
    {
     "data": {
      "text/plain": [
       "3"
      ]
     },
     "execution_count": 22,
     "metadata": {},
     "output_type": "execute_result"
    }
   ],
   "source": [
    "int(int('3'*2)/11)"
   ]
  },
  {
   "cell_type": "code",
   "execution_count": 23,
   "id": "da9bffbb",
   "metadata": {},
   "outputs": [
    {
     "data": {
      "text/plain": [
       "6"
      ]
     },
     "execution_count": 23,
     "metadata": {},
     "output_type": "execute_result"
    }
   ],
   "source": [
    "spam[int(int('3'*2)/11)]"
   ]
  },
  {
   "cell_type": "code",
   "execution_count": 24,
   "id": "661c612b",
   "metadata": {},
   "outputs": [],
   "source": [
    "#4.What is the value of spam[-1]?"
   ]
  },
  {
   "cell_type": "code",
   "execution_count": 25,
   "id": "bd955347",
   "metadata": {},
   "outputs": [
    {
     "data": {
      "text/plain": [
       "10"
      ]
     },
     "execution_count": 25,
     "metadata": {},
     "output_type": "execute_result"
    }
   ],
   "source": [
    "spam[-1]"
   ]
  },
  {
   "cell_type": "code",
   "execution_count": 26,
   "id": "cea0fbbc",
   "metadata": {},
   "outputs": [],
   "source": [
    "#5. What is the value of spam[:2]?"
   ]
  },
  {
   "cell_type": "code",
   "execution_count": 27,
   "id": "abf4f296",
   "metadata": {},
   "outputs": [
    {
     "data": {
      "text/plain": [
       "[2, 4]"
      ]
     },
     "execution_count": 27,
     "metadata": {},
     "output_type": "execute_result"
    }
   ],
   "source": [
    "spam[:2]"
   ]
  },
  {
   "cell_type": "code",
   "execution_count": 28,
   "id": "eff19f65",
   "metadata": {},
   "outputs": [],
   "source": [
    "#6.Lets pretend bacon has the list [3.14,'cat', 11,'cat',True] \n",
    "#  for the next three questions.\n",
    "# What is the value of bacon.index('cat')?"
   ]
  },
  {
   "cell_type": "code",
   "execution_count": 29,
   "id": "d689120e",
   "metadata": {},
   "outputs": [],
   "source": [
    "bacon=[3.14,'cat',11,'cat',True]"
   ]
  },
  {
   "cell_type": "code",
   "execution_count": 30,
   "id": "e18c9200",
   "metadata": {},
   "outputs": [
    {
     "data": {
      "text/plain": [
       "1"
      ]
     },
     "execution_count": 30,
     "metadata": {},
     "output_type": "execute_result"
    }
   ],
   "source": [
    "bacon.index('cat')"
   ]
  },
  {
   "cell_type": "code",
   "execution_count": 31,
   "id": "6c6142ff",
   "metadata": {},
   "outputs": [],
   "source": [
    "# 7.How does bacon.append(99) change the look of the list value\n",
    "#  in bacon?"
   ]
  },
  {
   "cell_type": "code",
   "execution_count": 32,
   "id": "be086065",
   "metadata": {},
   "outputs": [
    {
     "data": {
      "text/plain": [
       "[3.14, 'cat', 11, 'cat', True]"
      ]
     },
     "execution_count": 32,
     "metadata": {},
     "output_type": "execute_result"
    }
   ],
   "source": [
    "bacon"
   ]
  },
  {
   "cell_type": "code",
   "execution_count": 33,
   "id": "a041067e",
   "metadata": {},
   "outputs": [],
   "source": [
    "bacon.append(99)"
   ]
  },
  {
   "cell_type": "code",
   "execution_count": 34,
   "id": "ae59f040",
   "metadata": {},
   "outputs": [
    {
     "data": {
      "text/plain": [
       "[3.14, 'cat', 11, 'cat', True, 99]"
      ]
     },
     "execution_count": 34,
     "metadata": {},
     "output_type": "execute_result"
    }
   ],
   "source": [
    "bacon"
   ]
  },
  {
   "cell_type": "code",
   "execution_count": 35,
   "id": "4ba7d95b",
   "metadata": {},
   "outputs": [],
   "source": [
    "#8. How does bacon.remove('cat') change the look of the\n",
    "# list in bacon?"
   ]
  },
  {
   "cell_type": "code",
   "execution_count": 36,
   "id": "df32698a",
   "metadata": {},
   "outputs": [
    {
     "data": {
      "text/plain": [
       "[3.14, 'cat', 11, 'cat', True, 99]"
      ]
     },
     "execution_count": 36,
     "metadata": {},
     "output_type": "execute_result"
    }
   ],
   "source": [
    "bacon"
   ]
  },
  {
   "cell_type": "code",
   "execution_count": 37,
   "id": "a829f30f",
   "metadata": {},
   "outputs": [],
   "source": [
    "bacon.remove('cat')"
   ]
  },
  {
   "cell_type": "code",
   "execution_count": 38,
   "id": "9b0bb394",
   "metadata": {},
   "outputs": [
    {
     "data": {
      "text/plain": [
       "[3.14, 11, 'cat', True, 99]"
      ]
     },
     "execution_count": 38,
     "metadata": {},
     "output_type": "execute_result"
    }
   ],
   "source": [
    "bacon"
   ]
  },
  {
   "cell_type": "code",
   "execution_count": 39,
   "id": "6ec0cdd4",
   "metadata": {},
   "outputs": [],
   "source": [
    "#9. What are the list concatenation and list replication operators?"
   ]
  },
  {
   "cell_type": "code",
   "execution_count": 40,
   "id": "51419f31",
   "metadata": {},
   "outputs": [],
   "source": [
    "#A. For the concatenation of two or more lists we use operator \"+\" \n",
    "#and for the replication of lists we use operator \"*\"."
   ]
  },
  {
   "cell_type": "code",
   "execution_count": 41,
   "id": "0f3480c6",
   "metadata": {},
   "outputs": [],
   "source": [
    "#10.What is difference between the list methods append() and insert()?"
   ]
  },
  {
   "cell_type": "code",
   "execution_count": 42,
   "id": "e03de6a4",
   "metadata": {},
   "outputs": [],
   "source": [
    "#A. Append inserts the given data at the end of the list only. \n",
    "# But insert option inserts the data at particular index in the list."
   ]
  },
  {
   "cell_type": "code",
   "execution_count": 43,
   "id": "c855f6dd",
   "metadata": {},
   "outputs": [],
   "source": [
    "#11. What are the two methods for removing items from a list?"
   ]
  },
  {
   "cell_type": "code",
   "execution_count": 44,
   "id": "c87d01f7",
   "metadata": {},
   "outputs": [],
   "source": [
    "#A. remove and pop"
   ]
  },
  {
   "cell_type": "code",
   "execution_count": 45,
   "id": "79e4701d",
   "metadata": {},
   "outputs": [],
   "source": [
    "#12. Describe how list values and string values are identical."
   ]
  },
  {
   "cell_type": "code",
   "execution_count": 46,
   "id": "e5354047",
   "metadata": {},
   "outputs": [],
   "source": [
    "#A. list and string both are used to store value/data. list stores \n",
    "# all kinds of data like int,string, bool etc. But string stores\n",
    "# only characters in single or double quotations."
   ]
  },
  {
   "cell_type": "code",
   "execution_count": 1,
   "id": "1106968b",
   "metadata": {},
   "outputs": [],
   "source": [
    "# 13. What's the difference between tuples and lists?"
   ]
  },
  {
   "cell_type": "code",
   "execution_count": 2,
   "id": "b5585b61",
   "metadata": {},
   "outputs": [],
   "source": [
    "#A. Tuples contain the items inside them with opening and \n",
    "#  closing round brackets, (), whereas lists are denoted and defined by \n",
    "# the presence of opening and closing square brackets, [].\n",
    "# Tuples and Lists both are sequences, but tuples are immutable objects, \n",
    "# means we cannot change them, but lists are mutable, means we can change\n",
    "# them."
   ]
  },
  {
   "cell_type": "code",
   "execution_count": 3,
   "id": "610c04eb",
   "metadata": {},
   "outputs": [],
   "source": [
    "#14. 14. How do you type a tuple value that only contains the integer 42?"
   ]
  },
  {
   "cell_type": "code",
   "execution_count": 6,
   "id": "2e9f0268",
   "metadata": {},
   "outputs": [],
   "source": [
    "a=(42,)"
   ]
  },
  {
   "cell_type": "code",
   "execution_count": 7,
   "id": "c08693a8",
   "metadata": {},
   "outputs": [
    {
     "data": {
      "text/plain": [
       "(42,)"
      ]
     },
     "execution_count": 7,
     "metadata": {},
     "output_type": "execute_result"
    }
   ],
   "source": [
    "a"
   ]
  },
  {
   "cell_type": "code",
   "execution_count": 8,
   "id": "0dc5c9d0",
   "metadata": {},
   "outputs": [],
   "source": [
    "#A.  To write a tuple containing a single value we have to include a comma,\n",
    "# even though there is only one value."
   ]
  },
  {
   "cell_type": "code",
   "execution_count": 9,
   "id": "3c79b4f3",
   "metadata": {},
   "outputs": [],
   "source": [
    "#15. How do you get a list value's tuple form? \n",
    "# How do you get a tuple value's list form?"
   ]
  },
  {
   "cell_type": "code",
   "execution_count": 38,
   "id": "bd93919c",
   "metadata": {},
   "outputs": [
    {
     "name": "stdout",
     "output_type": "stream",
     "text": [
      "(1, 2, 3, 4, 5)\n"
     ]
    }
   ],
   "source": [
    "l=[1,2,3,4,5]\n",
    "print(tuple(l))"
   ]
  },
  {
   "cell_type": "code",
   "execution_count": 39,
   "id": "a6e9a2d0",
   "metadata": {},
   "outputs": [],
   "source": [
    "# list changed to tuple format"
   ]
  },
  {
   "cell_type": "code",
   "execution_count": 44,
   "id": "8d5450cc",
   "metadata": {},
   "outputs": [
    {
     "name": "stdout",
     "output_type": "stream",
     "text": [
      "[10, 20, 30]\n"
     ]
    }
   ],
   "source": [
    "t=(10,20,30)\n",
    "print(list(t))"
   ]
  },
  {
   "cell_type": "code",
   "execution_count": 45,
   "id": "a1d0279a",
   "metadata": {},
   "outputs": [],
   "source": [
    "#Tuple changed to list"
   ]
  },
  {
   "cell_type": "code",
   "execution_count": 48,
   "id": "00603c89",
   "metadata": {},
   "outputs": [],
   "source": [
    "#16. Variables that \"contain\" list values are not \n",
    "# necessarily lists themselves. Instead, what do they\n",
    "# contain?"
   ]
  },
  {
   "cell_type": "code",
   "execution_count": null,
   "id": "eb3885b2",
   "metadata": {},
   "outputs": [],
   "source": [
    "# A. ----------------------------------dont know the answer-------"
   ]
  },
  {
   "cell_type": "code",
   "execution_count": 47,
   "id": "03e15eb0",
   "metadata": {},
   "outputs": [],
   "source": [
    "# 17.17. How do you distinguish between copy.copy() and copy.deepcopy()?"
   ]
  },
  {
   "cell_type": "code",
   "execution_count": 49,
   "id": "9620f1bc",
   "metadata": {},
   "outputs": [],
   "source": [
    "#A. The copy() function only creates a shallow copy of the original list.\n",
    "# This means it copies the top level of the list only. If in that list you\n",
    "# have more complex data structures having nested elements, then those will\n",
    "# not be cloned. So the new list only hold half the reference of the\n",
    "# original list."
   ]
  },
  {
   "cell_type": "code",
   "execution_count": 50,
   "id": "3de37cb2",
   "metadata": {},
   "outputs": [],
   "source": [
    "import copy"
   ]
  },
  {
   "cell_type": "code",
   "execution_count": 52,
   "id": "e04f121f",
   "metadata": {},
   "outputs": [
    {
     "name": "stdout",
     "output_type": "stream",
     "text": [
      "a: [1, 2, 3, 4]\n",
      "A: [1, 2, 3, 4] \n",
      "\n",
      "Both of the lists have different id\n"
     ]
    }
   ],
   "source": [
    "a=[1,2,3,4]\n",
    "print('a:', a)\n",
    "\n",
    "A=copy.copy(a)\n",
    "print('A:',A,\"\\n\")\n",
    "\n",
    "if id(a)==id(A):\n",
    "    print(\"Both of the lists have same id\")\n",
    "else:\n",
    "    print(\"Both of the lists have different id\")"
   ]
  },
  {
   "cell_type": "code",
   "execution_count": 53,
   "id": "93827799",
   "metadata": {},
   "outputs": [],
   "source": [
    "#Python deepcopy() function is more subtle as it copies even the\n",
    "# nested objects recursively. Although copy.deepcopy() is slightly \n",
    "# slower than copy.copy(), it’s safer to use if you don’t know whether\n",
    "# the list being copied contains other lists (or other mutable objects \n",
    "# like dictionaries or sets)."
   ]
  },
  {
   "cell_type": "code",
   "execution_count": 54,
   "id": "ed0a3237",
   "metadata": {},
   "outputs": [
    {
     "name": "stdout",
     "output_type": "stream",
     "text": [
      "T: [{'phone': 'iphone'}, 5, 'lenovo']\n",
      "U: [{'phone': 'iphone'}, 5, 'lenovo'] \n",
      "\n",
      "Both the lists have different id\n"
     ]
    }
   ],
   "source": [
    "T=[{'phone':'iphone'}, 5,'lenovo']\n",
    "print('T:', T)\n",
    "\n",
    "U=copy.deepcopy(T)\n",
    "print('U:', U, \"\\n\")\n",
    "\n",
    "if id(T)==id(U):\n",
    "    print(\"Both the lists have same id\")\n",
    "else:\n",
    "    print(\"Both the lists have different id\")"
   ]
  },
  {
   "cell_type": "code",
   "execution_count": null,
   "id": "39c22416",
   "metadata": {},
   "outputs": [],
   "source": []
  }
 ],
 "metadata": {
  "kernelspec": {
   "display_name": "Python 3 (ipykernel)",
   "language": "python",
   "name": "python3"
  },
  "language_info": {
   "codemirror_mode": {
    "name": "ipython",
    "version": 3
   },
   "file_extension": ".py",
   "mimetype": "text/x-python",
   "name": "python",
   "nbconvert_exporter": "python",
   "pygments_lexer": "ipython3",
   "version": "3.9.7"
  }
 },
 "nbformat": 4,
 "nbformat_minor": 5
}
